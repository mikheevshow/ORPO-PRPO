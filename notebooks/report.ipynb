{
 "cells": [
  {
   "metadata": {
    "ExecuteTime": {
     "end_time": "2025-02-28T15:23:07.135119Z",
     "start_time": "2025-02-28T15:23:07.127210Z"
    }
   },
   "cell_type": "code",
   "source": [
    "import torch\n",
    "import pandas as pd\n",
    "import numpy as np\n",
    "\n",
    "from scripts.utils import get_device\n",
    "from scripts.evaluation import calc_winrate\n",
    "\n",
    "import matplotlib.pyplot as plt\n",
    "import matplotlib_inline\n",
    "import scienceplots\n",
    "plt.style.use(['science','no-latex'])\n",
    "matplotlib_inline.backend_inline.set_matplotlib_formats(\"svg\")"
   ],
   "outputs": [],
   "execution_count": 27
  },
  {
   "cell_type": "markdown",
   "metadata": {},
   "source": [
    "### Железо"
   ]
  },
  {
   "cell_type": "markdown",
   "metadata": {},
   "source": [
    "Google Colab A100 40 GB"
   ]
  },
  {
   "metadata": {},
   "cell_type": "markdown",
   "source": [
    "### __Чекпоинты моделей__\n",
    "\n",
    "Все упомянутые в отчете чекпоинты можно найти в коллекции на Hugging Face"
   ]
  },
  {
   "cell_type": "markdown",
   "metadata": {},
   "source": "### __Параметры экспериментов__"
  },
  {
   "cell_type": "markdown",
   "metadata": {},
   "source": [
    "За основу для исследования метода Odds Ratio Policy Optimization была взята модель Hugging Face SMOL2. Модель обучалась в различных режимах:\n",
    "- ORPO - pretrain модели обучался на лоссе $L = L_{SFT} + L_{OR}$ (OR - odds ratio);\n",
    "- PRPO - pretrain модели обучался на лоссе $L = L_{SFT} + L_{PR}$ (PR - probability ratio);\n",
    "- SFT + ORPO - над pretrain модели делался SFT на chosen ответах из датасета, затем, модель алайнилась на лоссе $L = L_{SFT} + L_{OR}$ (OR - odds ratio);\n",
    "- SFT + LOR - над pretrain модели делался SFT на chosen ответах из датасета, затем, модель алайнилась на лоссе $L = L_{OR}$ (OR - odds ratio);\n",
    "\n",
    "В качестве датасета был взят \n",
    "\n",
    "</br>\n",
    "\n",
    "### __Параметры ORPO__\n",
    "\n",
    "ORPO стадия. pretrain модели было осуществлено со следующими параметрами. `learning_rate`=8e-6\n",
    "\n",
    "\n",
    "</br>\n",
    "\n",
    "### __Параметры SFT__\n",
    "\n",
    "SFT-pret стадия. `learning_rate`=5e-5\n",
    "\n",
    "### __Параметры SFT + ORPO__\n",
    "Обученная SFT модель, затем, обучалась при помощи\n",
    "\n",
    "\n",
    "### __Параметры SFT + LOR__\n",
    "\n",
    "</br>\n",
    "\n",
    "### __Валидация моделей__\n",
    "\n",
    "Из тестового датасета были выбраны и зафиксированы 100 исходных промтов.\n",
    "\n",
    "Для генерации текстов были использованы следующие параметры `top_p=0.95`, `temperature=1.0`, `max_new_token=512`. Для каждой модели было произведено по `3` генерации ответов на тестовых промтах.\n",
    "\n",
    "Для каждой итерации был вычислен winrate при помощи [PairRM](https://huggingface.co/llm-blender/PairRM) модели вознаграждений. Затем найдены среднее и стандартное отклонение."
   ]
  },
  {
   "metadata": {
    "ExecuteTime": {
     "end_time": "2025-02-28T12:20:58.153186Z",
     "start_time": "2025-02-28T12:20:58.140499Z"
    }
   },
   "cell_type": "code",
   "source": [
    "# pure orpo answers\n",
    "orpo_checkpoint_11649 = pd.read_csv('../data/pure_orpo_answers/checkpoint-11649/SMOL-ORPO-bs4-ga-4-11649_answers_1.csv')\n",
    "orpo_checkpoint_15532 = pd.read_csv('../data/pure_orpo_answers/checkpoint-11649/SMOL-ORPO-bs4-ga-4-11649_answers_1.csv')"
   ],
   "outputs": [],
   "execution_count": 10
  },
  {
   "metadata": {
    "ExecuteTime": {
     "end_time": "2025-02-28T12:21:02.564925Z",
     "start_time": "2025-02-28T12:21:02.556891Z"
    }
   },
   "cell_type": "code",
   "source": "orpo_checkpoint_11649",
   "outputs": [
    {
     "data": {
      "text/plain": [
       "    Unnamed: 0                                            answers\n",
       "0            0  A personal finance magazine targeted at Filipi...\n",
       "1            1  According to industry experts, movie directors...\n",
       "2            2  An allosteric inhibitor is a chemical compound...\n",
       "3            3  The goal of semi conductors in cars is to prot...\n",
       "4            4  As a community health specialist, I can provid...\n",
       "..         ...                                                ...\n",
       "95          95  \"Homemade, from scratch.\"\\n\\nHomemade means th...\n",
       "96          96  As an AI language model, I must preface this c...\n",
       "97          97  Sure, I can help you with that! If you want to...\n",
       "98          98  Certainly! Learning a new language is an incre...\n",
       "99          99  As a helpful and respectful assistant, I'd lik...\n",
       "\n",
       "[100 rows x 2 columns]"
      ],
      "text/html": [
       "<div>\n",
       "<style scoped>\n",
       "    .dataframe tbody tr th:only-of-type {\n",
       "        vertical-align: middle;\n",
       "    }\n",
       "\n",
       "    .dataframe tbody tr th {\n",
       "        vertical-align: top;\n",
       "    }\n",
       "\n",
       "    .dataframe thead th {\n",
       "        text-align: right;\n",
       "    }\n",
       "</style>\n",
       "<table border=\"1\" class=\"dataframe\">\n",
       "  <thead>\n",
       "    <tr style=\"text-align: right;\">\n",
       "      <th></th>\n",
       "      <th>Unnamed: 0</th>\n",
       "      <th>answers</th>\n",
       "    </tr>\n",
       "  </thead>\n",
       "  <tbody>\n",
       "    <tr>\n",
       "      <th>0</th>\n",
       "      <td>0</td>\n",
       "      <td>A personal finance magazine targeted at Filipi...</td>\n",
       "    </tr>\n",
       "    <tr>\n",
       "      <th>1</th>\n",
       "      <td>1</td>\n",
       "      <td>According to industry experts, movie directors...</td>\n",
       "    </tr>\n",
       "    <tr>\n",
       "      <th>2</th>\n",
       "      <td>2</td>\n",
       "      <td>An allosteric inhibitor is a chemical compound...</td>\n",
       "    </tr>\n",
       "    <tr>\n",
       "      <th>3</th>\n",
       "      <td>3</td>\n",
       "      <td>The goal of semi conductors in cars is to prot...</td>\n",
       "    </tr>\n",
       "    <tr>\n",
       "      <th>4</th>\n",
       "      <td>4</td>\n",
       "      <td>As a community health specialist, I can provid...</td>\n",
       "    </tr>\n",
       "    <tr>\n",
       "      <th>...</th>\n",
       "      <td>...</td>\n",
       "      <td>...</td>\n",
       "    </tr>\n",
       "    <tr>\n",
       "      <th>95</th>\n",
       "      <td>95</td>\n",
       "      <td>\"Homemade, from scratch.\"\\n\\nHomemade means th...</td>\n",
       "    </tr>\n",
       "    <tr>\n",
       "      <th>96</th>\n",
       "      <td>96</td>\n",
       "      <td>As an AI language model, I must preface this c...</td>\n",
       "    </tr>\n",
       "    <tr>\n",
       "      <th>97</th>\n",
       "      <td>97</td>\n",
       "      <td>Sure, I can help you with that! If you want to...</td>\n",
       "    </tr>\n",
       "    <tr>\n",
       "      <th>98</th>\n",
       "      <td>98</td>\n",
       "      <td>Certainly! Learning a new language is an incre...</td>\n",
       "    </tr>\n",
       "    <tr>\n",
       "      <th>99</th>\n",
       "      <td>99</td>\n",
       "      <td>As a helpful and respectful assistant, I'd lik...</td>\n",
       "    </tr>\n",
       "  </tbody>\n",
       "</table>\n",
       "<p>100 rows × 2 columns</p>\n",
       "</div>"
      ]
     },
     "execution_count": 11,
     "metadata": {},
     "output_type": "execute_result"
    }
   ],
   "execution_count": 11
  },
  {
   "cell_type": "markdown",
   "metadata": {},
   "source": []
  },
  {
   "cell_type": "markdown",
   "metadata": {},
   "source": []
  },
  {
   "cell_type": "markdown",
   "metadata": {},
   "source": [
    "### __Обсуждене результатов__"
   ]
  },
  {
   "cell_type": "markdown",
   "metadata": {},
   "source": []
  },
  {
   "metadata": {},
   "cell_type": "code",
   "outputs": [],
   "execution_count": null,
   "source": ""
  }
 ],
 "metadata": {
  "kernelspec": {
   "display_name": "venv",
   "language": "python",
   "name": "python3"
  },
  "language_info": {
   "codemirror_mode": {
    "name": "ipython",
    "version": 3
   },
   "file_extension": ".py",
   "mimetype": "text/x-python",
   "name": "python",
   "nbconvert_exporter": "python",
   "pygments_lexer": "ipython3",
   "version": "3.12.6"
  }
 },
 "nbformat": 4,
 "nbformat_minor": 2
}
